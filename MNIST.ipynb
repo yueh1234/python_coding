{
 "cells": [
  {
   "cell_type": "code",
   "execution_count": 47,
   "metadata": {},
   "outputs": [],
   "source": [
    "import tensorflow as tf\n",
    "from tensorflow import keras\n",
    "import numpy as np\n",
    "import matplotlib.pyplot as plt\n",
    "%matplotlib inline"
   ]
  },
  {
   "cell_type": "code",
   "execution_count": 65,
   "metadata": {},
   "outputs": [],
   "source": [
    "(x_train, y_train), (x_test, y_test) = keras.datasets.mnist.load_data()\n",
    "x_train = x_train /255\n",
    "x_test = x_test /255"
   ]
  },
  {
   "cell_type": "code",
   "execution_count": 70,
   "metadata": {},
   "outputs": [
    {
     "name": "stdout",
     "output_type": "stream",
     "text": [
      "Epoch 1/10\n",
      "600/600 [==============================] - 10s 15ms/step - loss: 0.1975 - accuracy: 0.9402\n",
      "Epoch 2/10\n",
      "600/600 [==============================] - 9s 16ms/step - loss: 0.0816 - accuracy: 0.9743\n",
      "Epoch 3/10\n",
      "600/600 [==============================] - 9s 16ms/step - loss: 0.0547 - accuracy: 0.9826\n",
      "Epoch 4/10\n",
      "600/600 [==============================] - 9s 16ms/step - loss: 0.0444 - accuracy: 0.9858\n",
      "Epoch 5/10\n",
      "600/600 [==============================] - 10s 16ms/step - loss: 0.0362 - accuracy: 0.9889\n",
      "Epoch 6/10\n",
      "600/600 [==============================] - 10s 16ms/step - loss: 0.0278 - accuracy: 0.9916\n",
      "Epoch 7/10\n",
      "600/600 [==============================] - 10s 17ms/step - loss: 0.0260 - accuracy: 0.9916\n",
      "Epoch 8/10\n",
      "600/600 [==============================] - 9s 15ms/step - loss: 0.0221 - accuracy: 0.9930\n",
      "Epoch 9/10\n",
      "600/600 [==============================] - 9s 16ms/step - loss: 0.0207 - accuracy: 0.9939\n",
      "Epoch 10/10\n",
      "600/600 [==============================] - 10s 16ms/step - loss: 0.0165 - accuracy: 0.9949\n"
     ]
    },
    {
     "data": {
      "text/plain": [
       "<tensorflow.python.keras.callbacks.History at 0x13811ec40>"
      ]
     },
     "execution_count": 70,
     "metadata": {},
     "output_type": "execute_result"
    }
   ],
   "source": [
    "model = keras.Sequential([\n",
    "    keras.layers.Flatten(input_shape=(28,28)),\n",
    "    keras.layers.Dense(600, activation='relu'),\n",
    "    keras.layers.Dense(600, activation='relu'),\n",
    "    keras.layers.Dense(600, activation='relu'),\n",
    "    keras.layers.Dense(10, activation='softmax')\n",
    "])\n",
    "model.compile(\n",
    "    optimizer='adam',\n",
    "    loss = 'sparse_categorical_crossentropy',\n",
    "    metrics=['accuracy']    \n",
    ")\n",
    "model.fit(x_train, y_train, batch_size=100,epochs=10)"
   ]
  },
  {
   "cell_type": "code",
   "execution_count": null,
   "metadata": {},
   "outputs": [],
   "source": []
  }
 ],
 "metadata": {
  "interpreter": {
   "hash": "aee8b7b246df8f9039afb4144a1f6fd8d2ca17a180786b69acc140d282b71a49"
  },
  "kernelspec": {
   "display_name": "Python 3.9.4 64-bit",
   "name": "python3"
  },
  "language_info": {
   "codemirror_mode": {
    "name": "ipython",
    "version": 3
   },
   "file_extension": ".py",
   "mimetype": "text/x-python",
   "name": "python",
   "nbconvert_exporter": "python",
   "pygments_lexer": "ipython3",
   "version": "3.9.4"
  },
  "orig_nbformat": 4
 },
 "nbformat": 4,
 "nbformat_minor": 2
}
