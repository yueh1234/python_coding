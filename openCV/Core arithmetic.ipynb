{
 "cells": [
  {
   "cell_type": "markdown",
   "metadata": {},
   "source": [
    "## Image addition and blending"
   ]
  },
  {
   "cell_type": "code",
   "execution_count": 37,
   "metadata": {},
   "outputs": [
    {
     "name": "stdout",
     "output_type": "stream",
     "text": [
      "(2160, 3840, 3)\n",
      "(1800, 1800, 3)\n"
     ]
    },
    {
     "data": {
      "text/plain": [
       "115"
      ]
     },
     "execution_count": 37,
     "metadata": {},
     "output_type": "execute_result"
    }
   ],
   "source": [
    "import numpy as np\n",
    "import cv2 as cv\n",
    "\n",
    "img1 = cv.imread('data/123.jpg')\n",
    "img2 = cv.imread('data/face.jpg')\n",
    "print(img1.shape)\n",
    "print(img2.shape)\n",
    "img1 = cv.resize(img1,(1800,1800))\n",
    "# img3 = cv.add(img1,img2) #CV add\n",
    "# img3 = img1 + img2 # np add\n",
    "img3 = cv.addWeighted(img1,0.5,img2,0.5,0) #blending\n",
    "\n",
    "# cv.imshow('img1',img1)\n",
    "cv.imshow('img3',img3)\n",
    "cv.waitKey(0)\n"
   ]
  },
  {
   "cell_type": "markdown",
   "metadata": {},
   "source": [
    "## bitwise operation"
   ]
  },
  {
   "cell_type": "code",
   "execution_count": 57,
   "metadata": {},
   "outputs": [],
   "source": [
    "# Load two images\n",
    "img1 = cv.imread('data/123.jpg')\n",
    "img2 = cv.imread('data/face.jpg')\n",
    "\n",
    "# I want to put logo on top-left corner, So I create a ROI\n",
    "rows, cols, channels = img2.shape\n",
    "roi = img1[0:rows,0:cols]\n",
    "\n",
    "# Now create a mask of logo and create its inverse mask also\n",
    "img2gray = cv.cvtColor(img2, cv.COLOR_BGR2GRAY)\n",
    "ret, mask = cv.threshold(img2gray, 100, 255, cv.THRESH_BINARY)\n",
    "mask_inv = cv.bitwise_not(mask)\n",
    "\n",
    "# Now black-out the area of logo in ROI\n",
    "img1_bg = cv.bitwise_and(roi,roi,mask = mask)\n",
    "# Take only region of logo from logo image.\n",
    "img2_fg = cv.bitwise_and(img2,img2,mask = mask_inv)\n",
    "\n",
    "# Put logo in ROI and modify the main image\n",
    "dst = cv.add(img1_bg,img2_fg)\n",
    "img1[0:rows, 0:cols ] = dst\n",
    "\n",
    "cv.imshow('res',img1)\n",
    "# cv.imshow('mask',mask)\n",
    "# cv.imshow('mask_inv',mask_inv)\n",
    "# cv.imshow('img1_bg',img1_bg)\n",
    "# cv.imshow('img2_fg',img2_fg)\n",
    "cv.waitKey(0)\n",
    "cv.destroyAllWindows()"
   ]
  },
  {
   "cell_type": "markdown",
   "metadata": {},
   "source": [
    "# Exercise"
   ]
  },
  {
   "cell_type": "code",
   "execution_count": 7,
   "metadata": {},
   "outputs": [
    {
     "name": "stdout",
     "output_type": "stream",
     "text": [
      "(1800, 1800, 3)\n",
      "(1800, 1800, 3)\n",
      "(1800, 1800, 3)\n"
     ]
    }
   ],
   "source": [
    "import numpy as np\n",
    "import cv2 as cv\n",
    "import time\n",
    "\n",
    "img1 = cv.imread('data/123.jpg')\n",
    "img2 = cv.imread('data/face.jpg')\n",
    "img3 = cv.imread('data/test.jpg')\n",
    "img1 = cv.resize(img1, (img2.shape[0],img2.shape[1]))\n",
    "img3 = cv.resize(img3, (img2.shape[0],img2.shape[1]))\n",
    "print(img1.shape)\n",
    "print(img2.shape)\n",
    "print(img3.shape)\n",
    "\n",
    "a = np.array(range(10)).tolist()\n",
    "b = np.array(range(10)).tolist()\n",
    "b.reverse()\n",
    "list =[]\n",
    "for i in range(len(a)):\n",
    "    ab = (a[i],b[i])\n",
    "    list.append(ab)\n",
    "\n",
    "while True:\n",
    "    for i,k in list:\n",
    "        trans1 = cv.addWeighted(img1,k/10,img2,i/10,0)\n",
    "        cv.imshow('trans1',trans1)\n",
    "        cv.waitKey(500)\n",
    "    for i,k in list:  \n",
    "        trans2 = cv.addWeighted(img2,k/10,img3,i/10,0)\n",
    "        cv.imshow('trans1',trans2)\n",
    "        cv.waitKey(500)\n",
    "    if cv.waitKey(20):\n",
    "        break\n",
    "    \n",
    "    "
   ]
  }
 ],
 "metadata": {
  "interpreter": {
   "hash": "aee8b7b246df8f9039afb4144a1f6fd8d2ca17a180786b69acc140d282b71a49"
  },
  "kernelspec": {
   "display_name": "Python 3.9.4 64-bit",
   "language": "python",
   "name": "python3"
  },
  "language_info": {
   "codemirror_mode": {
    "name": "ipython",
    "version": 3
   },
   "file_extension": ".py",
   "mimetype": "text/x-python",
   "name": "python",
   "nbconvert_exporter": "python",
   "pygments_lexer": "ipython3",
   "version": "3.9.4"
  },
  "orig_nbformat": 4
 },
 "nbformat": 4,
 "nbformat_minor": 2
}
