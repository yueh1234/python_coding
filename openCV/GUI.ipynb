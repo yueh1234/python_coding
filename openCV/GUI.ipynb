{
 "cells": [
  {
   "cell_type": "markdown",
   "metadata": {},
   "source": [
    "## Image process"
   ]
  },
  {
   "cell_type": "code",
   "execution_count": null,
   "metadata": {},
   "outputs": [],
   "source": [
    "import cv2 as cv\n",
    "import numpy as np\n",
    "\n",
    "img = cv.imread('data/test.jpg')\n",
    "cv.imshow('img',img)\n",
    "\n",
    "blank = np.zeros(img.shape)\n",
    "cv.imshow('blank',blank)\n",
    "\n",
    "gray = cv.cvtColor(img, cv.COLOR_BGR2GRAY)\n",
    "# cv.imshow('gray',gray)\n",
    "\n",
    "blur = cv.GaussianBlur(gray, (3,3), cv.BORDER_DEFAULT)\n",
    "# cv.imshow('blur',blur)\n",
    "\n",
    "canny = cv.Canny(blur,0,70)\n",
    "cv.imshow('canny',canny)\n",
    "\n",
    "\n",
    "ret, thresh = cv.threshold(gray, 150,255,cv.THRESH_BINARY)\n",
    "cv.imshow('thresh',thresh)\n",
    "\n",
    "contours, hierachies = cv.findContours(thresh, cv.RETR_LIST, cv.CHAIN_APPROX_SIMPLE)\n",
    "print(len(contours), 'countours found')\n",
    "cv.drawContours(blank, contours, -1, (0,0,255),1)\n",
    "cv.imshow('contour', blank)\n",
    "\n",
    "cv.waitKey(1)\n",
    "cv.destroyAllWindows()"
   ]
  },
  {
   "cell_type": "markdown",
   "metadata": {},
   "source": [
    "## Drawing functions"
   ]
  },
  {
   "cell_type": "code",
   "execution_count": null,
   "metadata": {},
   "outputs": [],
   "source": [
    "\n",
    "# Create a black image\n",
    "img = np.zeros((512,512,3), np.uint8)\n",
    "\n",
    "# Draw a diagonal blue line with thickness of 5 px\n",
    "cv.line(img,(0,0),(511,511),(255,0,0),5)\n",
    "cv.rectangle(img,(384,0),(510,128),(0,255,0),3)\n",
    "cv.circle(img,(447,63), 63, (0,0,255), -1)\n",
    "cv.ellipse(img,(256,256),(100,50),0,0,160,255,-1)\n",
    "\n",
    "pts = np.array([[10,5],[20,30],[700,20],[50,10]], np.int32)\n",
    "pts = pts.reshape((-1,1,2))\n",
    "print(pts)\n",
    "cv.polylines(img,[pts],True,(255,255,255))\n",
    "\n",
    "font = cv.FONT_HERSHEY_SIMPLEX\n",
    "cv.putText(img,'OpenCV',(10,500), font, 4,(255,255,255),2,cv.LINE_AA)\n",
    "\n",
    "cv.imshow('img',img)\n",
    "cv.waitKey(0)"
   ]
  },
  {
   "cell_type": "code",
   "execution_count": null,
   "metadata": {},
   "outputs": [],
   "source": [
    "# Exercise\n",
    "\n",
    "img = np.zeros((512,512,3), np.uint8)\n",
    "\n",
    "# Draw a diagonal blue line with thickness of 5 px\n",
    "cv.circle(img,(256,150), 100, (0,0,255), -1)\n",
    "cv.circle(img,(128,350), 100, (0,255,0), -1)\n",
    "cv.circle(img,(384,350), 100, (255,0,0), -1)\n",
    "\n",
    "cv.circle(img,(256,150), 50, (0,0,0), -1)\n",
    "cv.circle(img,(128,350), 50, (0,0,0), -1)\n",
    "cv.circle(img,(384,350), 50, (0,0,0), -1)\n",
    "\n",
    "tri1 = np.array([[256,160],[128,350],[384,350]], np.int32)\n",
    "cv.drawContours(img,[tri1],-1,(0,0,0),-1)\n",
    "\n",
    "cv.imshow('img',img)\n",
    "cv.waitKey(0)"
   ]
  },
  {
   "cell_type": "markdown",
   "metadata": {},
   "source": [
    "## Mouse as a Paint-Brush"
   ]
  },
  {
   "cell_type": "code",
   "execution_count": null,
   "metadata": {},
   "outputs": [],
   "source": [
    "import cv2 as cv\n",
    "events = [i for i in dir(cv) if 'EVENT' in i]\n",
    "print( events )"
   ]
  },
  {
   "cell_type": "code",
   "execution_count": 11,
   "metadata": {},
   "outputs": [
    {
     "name": "stdout",
     "output_type": "stream",
     "text": [
      "282 247\n",
      "149 246\n",
      "252 378\n",
      "428 354\n"
     ]
    }
   ],
   "source": [
    "import numpy as np\n",
    "import cv2 as cv\n",
    "\n",
    "# mouse callback function\n",
    "\n",
    "def draw_circle(event,x,y,flags,param):\n",
    "    if event == cv.EVENT_LBUTTONDOWN:\n",
    "        cv.circle(img,(x,y),100,(b,g,r),-1)\n",
    "        print(x,y)\n",
    "        \n",
    "# Create a black image, a window and bind the function to window\n",
    "img = np.zeros((512,512,3), np.uint8)\n",
    "img[:]=[255,255,255]\n",
    "cv.namedWindow('image')\n",
    "cv.setMouseCallback('image',draw_circle)\n",
    "while True:\n",
    "    cv.imshow('image',img)\n",
    "    if cv.waitKey(20) & 0xFF == 27:\n",
    "        break\n",
    "cv.destroyAllWindows()"
   ]
  },
  {
   "cell_type": "code",
   "execution_count": null,
   "metadata": {},
   "outputs": [],
   "source": [
    "# Advance\n",
    "\n",
    "import numpy as np\n",
    "import cv2 as cv\n",
    "\n",
    "drawing = False # true if mouse is pressed\n",
    "mode = True # if True, draw rectangle. Press 'm' to toggle to curve\n",
    "ix,iy = -1,-1\n",
    "\n",
    "# mouse callback function\n",
    "def draw_circle(event,x,y,flags,param):\n",
    "    global ix,iy,drawing,mode\n",
    "    if event == cv.EVENT_LBUTTONDOWN:\n",
    "        drawing = True\n",
    "        ix,iy = x,y\n",
    "    elif event == cv.EVENT_MOUSEMOVE:\n",
    "        if drawing == True:\n",
    "            if mode == True:\n",
    "                cv.rectangle(img,(ix,iy),(x,y),(0,255,0),1)\n",
    "            else:\n",
    "                cv.circle(img,(x,y),15,(0,0,255),-1)\n",
    "    elif event == cv.EVENT_LBUTTONUP:\n",
    "        drawing = False\n",
    "        if mode == True:\n",
    "            cv.rectangle(img,(ix,iy),(x,y),(0,255,0),1)\n",
    "        else:\n",
    "            cv.circle(img,(x,y),5,(0,0,255),-1)\n",
    "img = np.zeros((512,512,3), np.uint8)\n",
    "cv.namedWindow('image')\n",
    "cv.setMouseCallback('image',draw_circle)\n",
    "while(1):\n",
    "    cv.imshow('image',img)\n",
    "    k = cv.waitKey(1) & 0xFF\n",
    "    if k == ord('m'):\n",
    "        mode = not mode\n",
    "    elif k == 27:\n",
    "        break\n",
    "cv.destroyAllWindows()"
   ]
  },
  {
   "cell_type": "markdown",
   "metadata": {},
   "source": [
    "# Trackbar as the color palette"
   ]
  },
  {
   "cell_type": "code",
   "execution_count": 27,
   "metadata": {},
   "outputs": [],
   "source": [
    "import numpy as np\n",
    "import cv2 as cv\n",
    "\n",
    "def nothing(x):\n",
    "    pass\n",
    "\n",
    "# Create a black image, a window\n",
    "img = np.zeros((300,512,3), np.uint8)\n",
    "cv.namedWindow('image')\n",
    "\n",
    "# create trackbars for color change\n",
    "cv.createTrackbar('R','image',0,255,nothing)\n",
    "cv.createTrackbar('G','image',0,255,nothing)\n",
    "cv.createTrackbar('B','image',0,255,nothing)\n",
    "\n",
    "# create switch for ON/OFF functionality\n",
    "switch = '0 : OFF ; 1 : ON'\n",
    "cv.createTrackbar(switch, 'image',0,1,nothing)\n",
    "while(1):\n",
    "    cv.imshow('image',img)\n",
    "    k = cv.waitKey(1) & 0xFF\n",
    "    if k == 27:\n",
    "        break\n",
    "    # get current positions of four trackbars\n",
    "    r = cv.getTrackbarPos('R','image')\n",
    "    g = cv.getTrackbarPos('G','image')\n",
    "    b = cv.getTrackbarPos('B','image')\n",
    "    s = cv.getTrackbarPos(switch,'image')\n",
    "    if s == 0:\n",
    "        img[:] = 0\n",
    "    else:\n",
    "        img[:] = [b,g,r]\n",
    "cv.destroyAllWindows()"
   ]
  },
  {
   "cell_type": "code",
   "execution_count": 16,
   "metadata": {},
   "outputs": [
    {
     "name": "stdout",
     "output_type": "stream",
     "text": [
      "308 103\n",
      "255 255 255\n",
      "234 100\n",
      "255 255 255\n",
      "402 22\n",
      "0 0 0\n",
      "392 71\n",
      "0 0 187\n"
     ]
    }
   ],
   "source": [
    "# exercise\n",
    "\n",
    "import cv2 as cv\n",
    "import numpy as np\n",
    "\n",
    "#blank image\n",
    "img1 = np.zeros((300,512,3), np.uint8)\n",
    "# img1[:] = [255,255,255]\n",
    "cv.namedWindow('img1')\n",
    "\n",
    "#paint brush\n",
    "r,g,b=0,0,0\n",
    "def draw(event,x,y,flags,param):\n",
    "    if event == cv.EVENT_LBUTTONDOWN:\n",
    "        cv.circle(img1,(x,y),10,(b,g,r),-1)\n",
    "        print(x,y)\n",
    "        print(b,g,r)\n",
    "        \n",
    "cv.setMouseCallback('img1', draw)\n",
    "\n",
    "#track bar\n",
    "def nothing(x):\n",
    "    pass\n",
    "cv.createTrackbar('R','img1',0,255,nothing)\n",
    "cv.createTrackbar('G','img1',0,255,nothing)\n",
    "cv.createTrackbar('B','img1',0,255,nothing)\n",
    "switch = '0:Off 1:On'\n",
    "cv.createTrackbar(switch,'img1',0,1,nothing)\n",
    "\n",
    "\n",
    "while True:\n",
    "    cv.imshow('img1',img1)\n",
    "    k = cv.waitKey(20) & 0xFF\n",
    "    if k ==27:\n",
    "        break\n",
    "    r = cv.getTrackbarPos('R','img1')\n",
    "    g = cv.getTrackbarPos('G','img1')\n",
    "    b = cv.getTrackbarPos('B','img1') \n",
    "    s = cv.getTrackbarPos(switch,'img1')\n",
    "    if s==0:\n",
    "        r,g,b,=255,255,255\n",
    "    \n",
    "    \n",
    "\n",
    "cv.destroyAllWindows()\n"
   ]
  },
  {
   "cell_type": "code",
   "execution_count": 10,
   "metadata": {},
   "outputs": [
    {
     "data": {
      "text/plain": [
       "3"
      ]
     },
     "execution_count": 10,
     "metadata": {},
     "output_type": "execute_result"
    }
   ],
   "source": [
    "a,b,c = 0,1,2\n",
    "\n",
    "def num():\n",
    "    return b+c\n",
    "num()"
   ]
  },
  {
   "cell_type": "code",
   "execution_count": null,
   "metadata": {},
   "outputs": [],
   "source": []
  }
 ],
 "metadata": {
  "interpreter": {
   "hash": "aee8b7b246df8f9039afb4144a1f6fd8d2ca17a180786b69acc140d282b71a49"
  },
  "kernelspec": {
   "display_name": "Python 3.9.4 64-bit",
   "language": "python",
   "name": "python3"
  },
  "language_info": {
   "codemirror_mode": {
    "name": "ipython",
    "version": 3
   },
   "file_extension": ".py",
   "mimetype": "text/x-python",
   "name": "python",
   "nbconvert_exporter": "python",
   "pygments_lexer": "ipython3",
   "version": "3.9.4"
  },
  "orig_nbformat": 4
 },
 "nbformat": 4,
 "nbformat_minor": 2
}
