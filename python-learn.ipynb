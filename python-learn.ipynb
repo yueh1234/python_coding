{
 "cells": [
  {
   "cell_type": "markdown",
   "metadata": {},
   "source": [
    "# 類別 object, 物件 class"
   ]
  },
  {
   "cell_type": "code",
   "execution_count": 1,
   "metadata": {},
   "outputs": [],
   "source": [
    "class Phone:\n",
    "    def __init__(self,os,number,is_waterproof):\n",
    "        self.os = os\n",
    "        self.number = number\n",
    "        self.is_waterproof = is_waterproof\n",
    "\n",
    "phone1 = Phone('ios',123,True)\n"
   ]
  },
  {
   "cell_type": "code",
   "execution_count": 2,
   "metadata": {},
   "outputs": [],
   "source": [
    "class Question:\n",
    "    def __init__(self,description,answer):\n",
    "        self.description = description\n",
    "        self.answer = answer"
   ]
  },
  {
   "cell_type": "code",
   "execution_count": 3,
   "metadata": {},
   "outputs": [],
   "source": [
    "test = [\n",
    "    '1+3=?\\n(a) 2\\n(b) 3\\n(c) 4\\n(d) 5'\n",
    "]"
   ]
  },
  {
   "cell_type": "code",
   "execution_count": 4,
   "metadata": {},
   "outputs": [
    {
     "name": "stdout",
     "output_type": "stream",
     "text": [
      "your score:0\n"
     ]
    }
   ],
   "source": [
    "from python_learn import Question\n",
    "\n",
    "questions = [\n",
    "    Question(test[0],'c')\n",
    "]\n",
    "\n",
    "def run_test(questions):\n",
    "    score = 0\n",
    "    for question in questions:\n",
    "        answer = input(question.description)\n",
    "        if answer == question.answer:\n",
    "            score +=1\n",
    "    \n",
    "    print('your score:' + str(score))\n",
    "\n",
    "run_test(questions)"
   ]
  },
  {
   "cell_type": "markdown",
   "metadata": {},
   "source": [
    "# 物件函式"
   ]
  },
  {
   "cell_type": "code",
   "execution_count": 5,
   "metadata": {},
   "outputs": [
    {
     "data": {
      "text/plain": [
       "7"
      ]
     },
     "execution_count": 5,
     "metadata": {},
     "output_type": "execute_result"
    }
   ],
   "source": [
    "class Phone:\n",
    "    def __init__(self,os,number,is_waterproof):\n",
    "        self.os = os\n",
    "        self.number = number\n",
    "        self.is_waterproof = is_waterproof\n",
    "\n",
    "    def is_ios(self):\n",
    "        if self.os == 'ios':\n",
    "            return True\n",
    "        else:\n",
    "            return False\n",
    "\n",
    "    def add(self, num1, num2):\n",
    "        return num1 + num2\n",
    "\n",
    "\n",
    "\n",
    "phone1 = Phone('ios',123,True)\n",
    "phone1.is_ios()\n",
    "phone1.add(3,4)\n"
   ]
  },
  {
   "cell_type": "markdown",
   "metadata": {},
   "source": [
    "# 繼承 "
   ]
  },
  {
   "cell_type": "code",
   "execution_count": 6,
   "metadata": {},
   "outputs": [
    {
     "data": {
      "text/plain": [
       "3.1622776601683795"
      ]
     },
     "execution_count": 6,
     "metadata": {},
     "output_type": "execute_result"
    }
   ],
   "source": [
    "class Point:\n",
    "    def __init__(self, x, y):\n",
    "        self.x = x\n",
    "        self.y = y\n",
    "    def show(self):\n",
    "        print(self.x, self.y)\n",
    "    def distance(self, targetX, targetY):\n",
    "        return (((self.x - targetX)**2) + ((self.y - targetY)**2))**0.5\n",
    "\n",
    "p = Point(1,5)\n",
    "p.distance(2,2)"
   ]
  },
  {
   "cell_type": "code",
   "execution_count": 7,
   "metadata": {},
   "outputs": [
    {
     "name": "stdout",
     "output_type": "stream",
     "text": [
      "test\n",
      "test\n",
      "test\n",
      "test\n",
      "\n"
     ]
    }
   ],
   "source": [
    "class File:\n",
    "    def __init__(self, name):\n",
    "        self.name = name\n",
    "        self.file = None\n",
    "    def open(self):\n",
    "        self.file = open(self.name, mode='r',encoding = 'utf-8')\n",
    "    def read(self):\n",
    "        return self.file.read()\n",
    "\n",
    "f1 = File('data1.txt')\n",
    "f1.open()\n",
    "data1 = f1.read()\n",
    "print(data1)\n",
    "f2 = File\n"
   ]
  }
 ],
 "metadata": {
  "interpreter": {
   "hash": "aee8b7b246df8f9039afb4144a1f6fd8d2ca17a180786b69acc140d282b71a49"
  },
  "kernelspec": {
   "display_name": "Python 3.9.4 64-bit",
   "language": "python",
   "name": "python3"
  },
  "language_info": {
   "codemirror_mode": {
    "name": "ipython",
    "version": 3
   },
   "file_extension": ".py",
   "mimetype": "text/x-python",
   "name": "python",
   "nbconvert_exporter": "python",
   "pygments_lexer": "ipython3",
   "version": "3.9.7"
  },
  "orig_nbformat": 4
 },
 "nbformat": 4,
 "nbformat_minor": 2
}
